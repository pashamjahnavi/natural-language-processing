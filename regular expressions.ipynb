{
 "cells": [
  {
   "cell_type": "code",
   "execution_count": 1,
   "id": "a83d4327-d026-4bf0-a575-669ba63408cf",
   "metadata": {},
   "outputs": [],
   "source": [
    "import re"
   ]
  },
  {
   "cell_type": "code",
   "execution_count": 2,
   "id": "e3a0c8e0-9109-4c9c-b6d5-4e6c93bc3664",
   "metadata": {},
   "outputs": [],
   "source": [
    "test_string = '123abc456789abc123ABC'"
   ]
  },
  {
   "cell_type": "code",
   "execution_count": 3,
   "id": "110b29ef-d3bc-4adb-bc49-a578e527baef",
   "metadata": {},
   "outputs": [
    {
     "name": "stdout",
     "output_type": "stream",
     "text": [
      "<re.Match object; span=(3, 6), match='abc'>\n",
      "<re.Match object; span=(12, 15), match='abc'>\n"
     ]
    }
   ],
   "source": [
    "# finditer() method gives match object\n",
    "pattern = re.compile(r'abc')\n",
    "matches = pattern.finditer(test_string)\n",
    "for match in matches:\n",
    " print(match)"
   ]
  },
  {
   "cell_type": "code",
   "execution_count": 4,
   "id": "5d0d9bc8-7f15-434c-97b0-f82099df3f6c",
   "metadata": {},
   "outputs": [
    {
     "name": "stdout",
     "output_type": "stream",
     "text": [
      "<re.Match object; span=(3, 6), match='abc'>\n",
      "<re.Match object; span=(12, 15), match='abc'>\n"
     ]
    }
   ],
   "source": [
    "# or can also be done in following way:\n",
    "matches = re.finditer(r\"abc\", test_string)\n",
    "for match in matches:\n",
    " print(match)\n"
   ]
  },
  {
   "cell_type": "code",
   "execution_count": 5,
   "id": "216d900e-d9de-4a34-adb5-1f7fb1e46c8f",
   "metadata": {},
   "outputs": [
    {
     "name": "stdout",
     "output_type": "stream",
     "text": [
      "abc\n",
      "abc\n"
     ]
    }
   ],
   "source": [
    "\n",
    "# findall() method gives all matching strings\n",
    "matches = re.findall(r\"abc\", test_string)\n",
    "for match in matches:\n",
    " print(match)"
   ]
  },
  {
   "cell_type": "code",
   "execution_count": 6,
   "id": "55890468-5d79-4c4e-9de3-e88857294eb4",
   "metadata": {},
   "outputs": [
    {
     "name": "stdout",
     "output_type": "stream",
     "text": [
      "None\n"
     ]
    }
   ],
   "source": [
    "# match() method gives first match at the beginning of string.\n",
    "match = re.match(r\"abc\", test_string)\n",
    "print(match)"
   ]
  },
  {
   "cell_type": "code",
   "execution_count": 7,
   "id": "08daa85e-9bf0-4c1c-9bae-ffcfc5b61723",
   "metadata": {},
   "outputs": [
    {
     "name": "stdout",
     "output_type": "stream",
     "text": [
      "<re.Match object; span=(0, 3), match='123'>\n"
     ]
    }
   ],
   "source": [
    "\n",
    "match = re.match(r\"123\", test_string)\n",
    "print(match)"
   ]
  },
  {
   "cell_type": "code",
   "execution_count": 8,
   "id": "a4be4fe0-80d9-4cce-a883-7319c5638713",
   "metadata": {},
   "outputs": [
    {
     "name": "stdout",
     "output_type": "stream",
     "text": [
      "<re.Match object; span=(3, 6), match='abc'>\n"
     ]
    }
   ],
   "source": [
    "# search() method gives first matching string at any location\n",
    "match = re.search(r\"abc\", test_string)\n",
    "print(match)"
   ]
  },
  {
   "cell_type": "code",
   "execution_count": 9,
   "id": "5721457d-254f-498b-8f17-8e2bc4cff628",
   "metadata": {},
   "outputs": [
    {
     "name": "stdout",
     "output_type": "stream",
     "text": [
      "(3, 6) 3 6\n",
      "(12, 15) 12 15\n"
     ]
    }
   ],
   "source": [
    "\n",
    "# moving forward with finditer() method\n",
    "pattern = re.compile(r'abc')\n",
    "matches = pattern.finditer(test_string)\n",
    "for match in matches:\n",
    " print(match.span(), match.start(), match.end())"
   ]
  },
  {
   "cell_type": "code",
   "execution_count": 10,
   "id": "16f85155-dedc-4267-8a7b-e2237106e951",
   "metadata": {},
   "outputs": [
    {
     "name": "stdout",
     "output_type": "stream",
     "text": [
      "abc\n",
      "abc\n"
     ]
    }
   ],
   "source": [
    "pattern = re.compile(r'abc')\n",
    "matches = pattern.finditer(test_string)\n",
    "for match in matches:\n",
    " print(match.group())"
   ]
  },
  {
   "cell_type": "code",
   "execution_count": 11,
   "id": "2e7d37ad-2330-4ba1-aa23-8a6eec200804",
   "metadata": {},
   "outputs": [
    {
     "name": "stdout",
     "output_type": "stream",
     "text": [
      "1 2 3 a b c 4 5 6 7 8 9 a b c 1 2 3 A B C "
     ]
    }
   ],
   "source": [
    "pattern = re.compile(r\".\")\n",
    "matches = pattern.finditer(test_string)\n",
    "for match in matches:\n",
    " print(match.group(), end = \" \")"
   ]
  },
  {
   "cell_type": "code",
   "execution_count": 12,
   "id": "6c23bc88-2a57-4632-99e8-2d24e1498599",
   "metadata": {},
   "outputs": [
    {
     "name": "stdout",
     "output_type": "stream",
     "text": [
      "<re.Match object; span=(21, 22), match='.'>\n"
     ]
    }
   ],
   "source": [
    "test_string1 = '123abc456789abc123ABC.'\n",
    "pattern = re.compile(r\"\\.\")\n",
    "matches = pattern.finditer(test_string1)\n",
    "for match in matches:\n",
    " print(match)"
   ]
  },
  {
   "cell_type": "code",
   "execution_count": 13,
   "id": "277154a0-08bd-4d8a-bf28-9694ad8bf56b",
   "metadata": {},
   "outputs": [
    {
     "name": "stdout",
     "output_type": "stream",
     "text": [
      "<re.Match object; span=(0, 3), match='123'>\n"
     ]
    }
   ],
   "source": [
    "test_string = '123abc456789abc123ABC'\n",
    "pattern = re.compile(r\"^123\")\n",
    "matches = pattern.finditer(test_string)\n",
    "for match in matches:\n",
    " print(match)"
   ]
  },
  {
   "cell_type": "code",
   "execution_count": 14,
   "id": "ba12c2ed-e4c0-4ece-adfc-c59acac42914",
   "metadata": {},
   "outputs": [],
   "source": [
    "pattern = re.compile(r\"^abc\")\n",
    "matches = pattern.finditer(test_string)\n",
    "for match in matches:\n",
    " print(match)\n",
    "# no match"
   ]
  },
  {
   "cell_type": "code",
   "execution_count": 15,
   "id": "5c65fb0d-15ac-4ec2-9177-7089925f0df1",
   "metadata": {},
   "outputs": [],
   "source": [
    "\n",
    "pattern = re.compile(r\"abc$\")\n",
    "matches = pattern.finditer(test_string)\n",
    "for match in matches:\n",
    " print(match)\n"
   ]
  },
  {
   "cell_type": "code",
   "execution_count": 16,
   "id": "daf81a9b-144b-445d-9691-6d20cbe77550",
   "metadata": {},
   "outputs": [
    {
     "name": "stdout",
     "output_type": "stream",
     "text": [
      "<re.Match object; span=(18, 21), match='ABC'>\n"
     ]
    }
   ],
   "source": [
    "pattern = re.compile(r\"ABC$\")\n",
    "matches = pattern.finditer(test_string)\n",
    "for match in matches:\n",
    " print(match)"
   ]
  },
  {
   "cell_type": "code",
   "execution_count": 17,
   "id": "0a2a6226-0880-414b-9f75-56e34003e02f",
   "metadata": {},
   "outputs": [],
   "source": [
    "test_string2 = 'hello 123_ heyho hohey'"
   ]
  },
  {
   "cell_type": "code",
   "execution_count": 18,
   "id": "e5a4a835-8503-4a37-8a64-c341f59db590",
   "metadata": {},
   "outputs": [
    {
     "name": "stdout",
     "output_type": "stream",
     "text": [
      "<re.Match object; span=(6, 7), match='1'>\n",
      "<re.Match object; span=(7, 8), match='2'>\n",
      "<re.Match object; span=(8, 9), match='3'>\n"
     ]
    }
   ],
   "source": [
    "pattern = re.compile(r\"\\d\")\n",
    "matches = pattern.finditer(test_string2)\n",
    "for match in matches:\n",
    " print(match)"
   ]
  },
  {
   "cell_type": "code",
   "execution_count": 19,
   "id": "7054e37a-c5f4-4aaa-b837-b153e7bee418",
   "metadata": {},
   "outputs": [
    {
     "name": "stdout",
     "output_type": "stream",
     "text": [
      "<re.Match object; span=(0, 1), match='h'>\n",
      "<re.Match object; span=(1, 2), match='e'>\n",
      "<re.Match object; span=(2, 3), match='l'>\n",
      "<re.Match object; span=(3, 4), match='l'>\n",
      "<re.Match object; span=(4, 5), match='o'>\n",
      "<re.Match object; span=(5, 6), match=' '>\n",
      "<re.Match object; span=(9, 10), match='_'>\n",
      "<re.Match object; span=(10, 11), match=' '>\n",
      "<re.Match object; span=(11, 12), match='h'>\n",
      "<re.Match object; span=(12, 13), match='e'>\n",
      "<re.Match object; span=(13, 14), match='y'>\n",
      "<re.Match object; span=(14, 15), match='h'>\n",
      "<re.Match object; span=(15, 16), match='o'>\n",
      "<re.Match object; span=(16, 17), match=' '>\n",
      "<re.Match object; span=(17, 18), match='h'>\n",
      "<re.Match object; span=(18, 19), match='o'>\n",
      "<re.Match object; span=(19, 20), match='h'>\n",
      "<re.Match object; span=(20, 21), match='e'>\n",
      "<re.Match object; span=(21, 22), match='y'>\n"
     ]
    }
   ],
   "source": [
    "pattern = re.compile(r\"\\D\")\n",
    "matches = pattern.finditer(test_string2)\n",
    "for match in matches:\n",
    " print(match)"
   ]
  },
  {
   "cell_type": "code",
   "execution_count": 20,
   "id": "d06638a7-9570-45b6-ae95-5d61b9037375",
   "metadata": {},
   "outputs": [
    {
     "name": "stdout",
     "output_type": "stream",
     "text": [
      "<re.Match object; span=(5, 6), match=' '>\n",
      "<re.Match object; span=(10, 11), match=' '>\n",
      "<re.Match object; span=(16, 17), match=' '>\n"
     ]
    }
   ],
   "source": [
    "pattern = re.compile(r\"\\s\")\n",
    "matches = pattern.finditer(test_string2)\n",
    "for match in matches:\n",
    " print(match)"
   ]
  },
  {
   "cell_type": "code",
   "execution_count": 21,
   "id": "75711761-a295-42a7-8ed2-f08aef1107d0",
   "metadata": {},
   "outputs": [
    {
     "name": "stdout",
     "output_type": "stream",
     "text": [
      "<re.Match object; span=(0, 1), match='h'>\n",
      "<re.Match object; span=(1, 2), match='e'>\n",
      "<re.Match object; span=(2, 3), match='l'>\n",
      "<re.Match object; span=(3, 4), match='l'>\n",
      "<re.Match object; span=(4, 5), match='o'>\n",
      "<re.Match object; span=(6, 7), match='1'>\n",
      "<re.Match object; span=(7, 8), match='2'>\n",
      "<re.Match object; span=(8, 9), match='3'>\n",
      "<re.Match object; span=(9, 10), match='_'>\n",
      "<re.Match object; span=(11, 12), match='h'>\n",
      "<re.Match object; span=(12, 13), match='e'>\n",
      "<re.Match object; span=(13, 14), match='y'>\n",
      "<re.Match object; span=(14, 15), match='h'>\n",
      "<re.Match object; span=(15, 16), match='o'>\n",
      "<re.Match object; span=(17, 18), match='h'>\n",
      "<re.Match object; span=(18, 19), match='o'>\n",
      "<re.Match object; span=(19, 20), match='h'>\n",
      "<re.Match object; span=(20, 21), match='e'>\n",
      "<re.Match object; span=(21, 22), match='y'>\n"
     ]
    }
   ],
   "source": [
    "pattern = re.compile(r\"\\S\")\n",
    "matches = pattern.finditer(test_string2)\n",
    "for match in matches:\n",
    " print(match)"
   ]
  },
  {
   "cell_type": "code",
   "execution_count": 22,
   "id": "cc0eb5d5-f1a7-4b19-a752-d7d11a0ffe06",
   "metadata": {},
   "outputs": [
    {
     "name": "stdout",
     "output_type": "stream",
     "text": [
      "<re.Match object; span=(0, 1), match='h'>\n",
      "<re.Match object; span=(1, 2), match='e'>\n",
      "<re.Match object; span=(2, 3), match='l'>\n",
      "<re.Match object; span=(3, 4), match='l'>\n",
      "<re.Match object; span=(4, 5), match='o'>\n",
      "<re.Match object; span=(6, 7), match='1'>\n",
      "<re.Match object; span=(7, 8), match='2'>\n",
      "<re.Match object; span=(8, 9), match='3'>\n",
      "<re.Match object; span=(9, 10), match='_'>\n",
      "<re.Match object; span=(11, 12), match='h'>\n",
      "<re.Match object; span=(12, 13), match='e'>\n",
      "<re.Match object; span=(13, 14), match='y'>\n",
      "<re.Match object; span=(14, 15), match='h'>\n",
      "<re.Match object; span=(15, 16), match='o'>\n",
      "<re.Match object; span=(17, 18), match='h'>\n",
      "<re.Match object; span=(18, 19), match='o'>\n",
      "<re.Match object; span=(19, 20), match='h'>\n",
      "<re.Match object; span=(20, 21), match='e'>\n",
      "<re.Match object; span=(21, 22), match='y'>\n"
     ]
    }
   ],
   "source": [
    "pattern= re.compile(r\"\\w\")\n",
    "matches= pattern.finditer(test_string2)\n",
    "for match in matches:\n",
    " print(match)"
   ]
  },
  {
   "cell_type": "code",
   "execution_count": 23,
   "id": "dae728fd-feea-457c-a810-4e629d111100",
   "metadata": {},
   "outputs": [
    {
     "name": "stdout",
     "output_type": "stream",
     "text": [
      "<re.Match object; span=(5, 6), match=' '>\n",
      "<re.Match object; span=(10, 11), match=' '>\n",
      "<re.Match object; span=(16, 17), match=' '>\n"
     ]
    }
   ],
   "source": [
    "pattern= re.compile(r\"\\W\")\n",
    "matches= pattern.finditer(test_string2)\n",
    "for match in matches:\n",
    " print(match)"
   ]
  },
  {
   "cell_type": "code",
   "execution_count": 24,
   "id": "a2c770ad-acce-4ed4-a8e5-e685c71f4322",
   "metadata": {},
   "outputs": [
    {
     "name": "stdout",
     "output_type": "stream",
     "text": [
      "<re.Match object; span=(0, 5), match='hello'>\n"
     ]
    }
   ],
   "source": [
    "pattern= re.compile(r\"\\bhello\")\n",
    "matches= pattern.finditer(test_string2)\n",
    "for match in matches:\n",
    " print(match)"
   ]
  },
  {
   "cell_type": "code",
   "execution_count": 25,
   "id": "e7067631-225a-4418-a4fa-0aed213be4f0",
   "metadata": {},
   "outputs": [],
   "source": [
    "test_string3 = 'hello 123_'"
   ]
  },
  {
   "cell_type": "code",
   "execution_count": 26,
   "id": "3c01813b-c70e-44e2-985d-7c3a2fa65d54",
   "metadata": {},
   "outputs": [
    {
     "name": "stdout",
     "output_type": "stream",
     "text": [
      "<re.Match object; span=(2, 3), match='l'>\n",
      "<re.Match object; span=(3, 4), match='l'>\n",
      "<re.Match object; span=(4, 5), match='o'>\n"
     ]
    }
   ],
   "source": [
    "pattern = re.compile(r\"[lo]\")\n",
    "matches = pattern.finditer(test_string3)\n",
    "for match in matches:\n",
    " print(match)"
   ]
  },
  {
   "cell_type": "code",
   "execution_count": 27,
   "id": "e4ea8947-1fa6-445e-846b-1165278f1ca2",
   "metadata": {},
   "outputs": [
    {
     "name": "stdout",
     "output_type": "stream",
     "text": [
      "<re.Match object; span=(0, 1), match='h'>\n",
      "<re.Match object; span=(1, 2), match='e'>\n",
      "<re.Match object; span=(2, 3), match='l'>\n",
      "<re.Match object; span=(3, 4), match='l'>\n",
      "<re.Match object; span=(4, 5), match='o'>\n"
     ]
    }
   ],
   "source": [
    "pattern = re.compile(r\"[a-z]\")\n",
    "matches = pattern.finditer(test_string3)\n",
    "for match in matches:\n",
    " print(match)"
   ]
  },
  {
   "cell_type": "code",
   "execution_count": 28,
   "id": "aba1e743-1881-4d88-ba05-a1f6382a53ef",
   "metadata": {},
   "outputs": [
    {
     "name": "stdout",
     "output_type": "stream",
     "text": [
      "<re.Match object; span=(7, 8), match='2'>\n",
      "<re.Match object; span=(8, 9), match='3'>\n"
     ]
    }
   ],
   "source": [
    "pattern = re.compile(r\"[23]\")\n",
    "matches = pattern.finditer(test_string3)\n",
    "for match in matches:\n",
    " print(match)"
   ]
  },
  {
   "cell_type": "code",
   "execution_count": 29,
   "id": "70526a63-2345-4971-84ae-f742d09a4554",
   "metadata": {},
   "outputs": [
    {
     "name": "stdout",
     "output_type": "stream",
     "text": [
      "<re.Match object; span=(6, 7), match='1'>\n",
      "<re.Match object; span=(7, 8), match='2'>\n",
      "<re.Match object; span=(8, 9), match='3'>\n"
     ]
    }
   ],
   "source": [
    "pattern = re.compile(r\"[0-9]\")\n",
    "matches = pattern.finditer(test_string3)\n",
    "for match in matches:\n",
    " print(match)"
   ]
  },
  {
   "cell_type": "code",
   "execution_count": 30,
   "id": "e0a80239-666f-480d-bb71-7d9767a7e06f",
   "metadata": {},
   "outputs": [
    {
     "name": "stdout",
     "output_type": "stream",
     "text": [
      "<re.Match object; span=(6, 7), match='1'>\n",
      "<re.Match object; span=(7, 8), match='2'>\n",
      "<re.Match object; span=(8, 9), match='3'>\n",
      "<re.Match object; span=(9, 10), match='-'>\n"
     ]
    }
   ],
   "source": [
    "pattern = re.compile(r\"[0-9-]\")\n",
    "matches = pattern.finditer('hello 123-')\n",
    "for match in matches:\n",
    " print(match)"
   ]
  },
  {
   "cell_type": "code",
   "execution_count": 31,
   "id": "d41efe57-4050-489c-9313-6e51577706b6",
   "metadata": {},
   "outputs": [
    {
     "name": "stdout",
     "output_type": "stream",
     "text": [
      "<re.Match object; span=(0, 1), match='h'>\n",
      "<re.Match object; span=(1, 2), match='e'>\n",
      "<re.Match object; span=(2, 3), match='l'>\n",
      "<re.Match object; span=(3, 4), match='l'>\n",
      "<re.Match object; span=(4, 5), match='o'>\n",
      "<re.Match object; span=(5, 6), match='H'>\n",
      "<re.Match object; span=(6, 7), match='E'>\n",
      "<re.Match object; span=(7, 8), match='L'>\n",
      "<re.Match object; span=(8, 9), match='L'>\n",
      "<re.Match object; span=(9, 10), match='O'>\n",
      "<re.Match object; span=(11, 12), match='1'>\n",
      "<re.Match object; span=(12, 13), match='2'>\n",
      "<re.Match object; span=(13, 14), match='3'>\n"
     ]
    }
   ],
   "source": [
    "pattern = re.compile(r\"[a-zA-Z0-9]\")\n",
    "matches = pattern.finditer('helloHELLO 123_')\n",
    "for match in matches:\n",
    " print(match)"
   ]
  },
  {
   "cell_type": "code",
   "execution_count": 32,
   "id": "1d8f09d7-5566-4826-9369-b034d9ec5861",
   "metadata": {},
   "outputs": [],
   "source": [
    "test_string4 = 'hello_123'"
   ]
  },
  {
   "cell_type": "code",
   "execution_count": 33,
   "id": "d356c9fd-c940-4cef-b658-727195f5e655",
   "metadata": {},
   "outputs": [
    {
     "name": "stdout",
     "output_type": "stream",
     "text": [
      "<re.Match object; span=(0, 0), match=''>\n",
      "<re.Match object; span=(1, 1), match=''>\n",
      "<re.Match object; span=(2, 2), match=''>\n",
      "<re.Match object; span=(3, 3), match=''>\n",
      "<re.Match object; span=(4, 4), match=''>\n",
      "<re.Match object; span=(5, 5), match=''>\n",
      "<re.Match object; span=(6, 9), match='123'>\n",
      "<re.Match object; span=(9, 9), match=''>\n"
     ]
    }
   ],
   "source": [
    "pattern = re.compile(r\"\\d*\")\n",
    "matches = pattern.finditer(test_string4)\n",
    "for match in matches:\n",
    " print(match)"
   ]
  },
  {
   "cell_type": "code",
   "execution_count": 34,
   "id": "910bffa9-a77a-4cb7-a16e-4fa21d32dba8",
   "metadata": {},
   "outputs": [
    {
     "name": "stdout",
     "output_type": "stream",
     "text": [
      "<re.Match object; span=(6, 7), match='1'>\n",
      "<re.Match object; span=(7, 8), match='2'>\n",
      "<re.Match object; span=(8, 9), match='3'>\n"
     ]
    }
   ],
   "source": [
    "pattern = re.compile(r\"\\d\")\n",
    "matches = pattern.finditer(test_string4)\n",
    "for match in matches:\n",
    " print(match)"
   ]
  },
  {
   "cell_type": "code",
   "execution_count": 35,
   "id": "fab39046-ab21-46c5-b0c9-ad21b21661d4",
   "metadata": {},
   "outputs": [
    {
     "name": "stdout",
     "output_type": "stream",
     "text": [
      "<re.Match object; span=(6, 9), match='123'>\n"
     ]
    }
   ],
   "source": [
    "pattern = re.compile(r\"\\d+\")\n",
    "matches = pattern.finditer(test_string4)\n",
    "for match in matches:\n",
    " print(match)"
   ]
  },
  {
   "cell_type": "code",
   "execution_count": 36,
   "id": "04f4563f-7259-47fb-bd3e-6e3bf62cf9d5",
   "metadata": {},
   "outputs": [
    {
     "name": "stdout",
     "output_type": "stream",
     "text": [
      "<re.Match object; span=(5, 9), match='_123'>\n"
     ]
    }
   ],
   "source": [
    "pattern = re.compile(r\"_\\d+\")\n",
    "matches = pattern.finditer(test_string4)\n",
    "for match in matches:\n",
    " print(match)"
   ]
  },
  {
   "cell_type": "code",
   "execution_count": 37,
   "id": "a1cecaf6-db34-4342-8cbc-4a4c796df840",
   "metadata": {},
   "outputs": [],
   "source": [
    "pattern = re.compile(r\"_\\d\")\n",
    "matches = pattern.finditer('hello123')\n",
    "for match in matches:\n",
    " print(match)\n"
   ]
  },
  {
   "cell_type": "code",
   "execution_count": 38,
   "id": "be4f2b13-eef2-414b-84ef-1e9c5221d713",
   "metadata": {},
   "outputs": [
    {
     "name": "stdout",
     "output_type": "stream",
     "text": [
      "<re.Match object; span=(5, 6), match='1'>\n",
      "<re.Match object; span=(6, 7), match='2'>\n",
      "<re.Match object; span=(7, 8), match='3'>\n"
     ]
    }
   ],
   "source": [
    "pattern = re.compile(r\"_?\\d\")\n",
    "matches = pattern.finditer('hello123')\n",
    "for match in matches:\n",
    " print(match)"
   ]
  },
  {
   "cell_type": "code",
   "execution_count": 39,
   "id": "30837eba-c83e-4942-a692-436d0ef837b3",
   "metadata": {},
   "outputs": [
    {
     "name": "stdout",
     "output_type": "stream",
     "text": [
      "<re.Match object; span=(5, 8), match='123'>\n"
     ]
    }
   ],
   "source": [
    "pattern = re.compile(r\"\\d{3}\")\n",
    "matches = pattern.finditer('hello123')\n",
    "for match in matches:\n",
    " print(match)"
   ]
  },
  {
   "cell_type": "code",
   "execution_count": 40,
   "id": "664ab02d-64b4-4ab1-8d40-e50aafe7afe3",
   "metadata": {},
   "outputs": [
    {
     "name": "stdout",
     "output_type": "stream",
     "text": [
      "<re.Match object; span=(5, 7), match='12'>\n"
     ]
    }
   ],
   "source": [
    "pattern = re.compile(r\"\\d{2}\")\n",
    "matches = pattern.finditer('hello123')\n",
    "for match in matches:\n",
    " print(match)"
   ]
  },
  {
   "cell_type": "code",
   "execution_count": 41,
   "id": "48bdb09e-7e25-401f-b7f5-5c7a0505c717",
   "metadata": {},
   "outputs": [],
   "source": [
    "pattern = re.compile(r\"\\d{4}\")\n",
    "matches = pattern.finditer('hello123')\n",
    "for match in matches:\n",
    " print(match)"
   ]
  },
  {
   "cell_type": "code",
   "execution_count": 42,
   "id": "6559785e-7770-4d74-89da-4566e6648322",
   "metadata": {},
   "outputs": [
    {
     "name": "stdout",
     "output_type": "stream",
     "text": [
      "<re.Match object; span=(5, 8), match='123'>\n"
     ]
    }
   ],
   "source": [
    "pattern = re.compile(r\"\\d{1,3}\")\n",
    "matches = pattern.finditer('hello123')\n",
    "for match in matches:\n",
    " print(match)\n"
   ]
  },
  {
   "cell_type": "code",
   "execution_count": 43,
   "id": "1a7d3f68-26a0-41ef-90ca-737de0d22b84",
   "metadata": {},
   "outputs": [],
   "source": [
    "# Task 1\n",
    "dates = \"\"\"\n",
    "hello\n",
    "11.04.2022\n",
    "2022.04.21\n",
    "2022-04-30\n",
    "2022-05-23\n",
    "2022-06-12\n",
    "2022-07-15\n",
    "2022-08-19\n",
    "2022/04/22\n",
    "2022_04_04\n",
    "\"\"\""
   ]
  },
  {
   "cell_type": "code",
   "execution_count": 44,
   "id": "41725085-c363-4f84-bf00-2d77a51ca38e",
   "metadata": {},
   "outputs": [
    {
     "name": "stdout",
     "output_type": "stream",
     "text": [
      "<re.Match object; span=(31, 39), match='22-04-30'>\n",
      "<re.Match object; span=(42, 50), match='22-05-23'>\n",
      "<re.Match object; span=(53, 61), match='22-06-12'>\n",
      "<re.Match object; span=(64, 72), match='22-07-15'>\n",
      "<re.Match object; span=(75, 83), match='22-08-19'>\n"
     ]
    }
   ],
   "source": [
    "#1. find all date in this 2020-04-01 format\n",
    "pattern = re.compile(r\"\\d.-\\d.-\\d.\")\n",
    "matches = pattern.finditer(dates)\n",
    "for match in matches:\n",
    " print(match)"
   ]
  },
  {
   "cell_type": "code",
   "execution_count": 45,
   "id": "fc955c66-b9c7-4400-921f-4843707b1c10",
   "metadata": {},
   "outputs": [
    {
     "name": "stdout",
     "output_type": "stream",
     "text": [
      "<re.Match object; span=(29, 39), match='2022-04-30'>\n",
      "<re.Match object; span=(40, 50), match='2022-05-23'>\n",
      "<re.Match object; span=(51, 61), match='2022-06-12'>\n",
      "<re.Match object; span=(62, 72), match='2022-07-15'>\n",
      "<re.Match object; span=(73, 83), match='2022-08-19'>\n"
     ]
    }
   ],
   "source": [
    "pattern = re.compile(r\"\\d\\d\\d\\d-\\d\\d-\\d\\d\")\n",
    "matches = pattern.finditer(dates)\n",
    "for match in matches:\n",
    " print(match)"
   ]
  },
  {
   "cell_type": "code",
   "execution_count": 46,
   "id": "99d2441d-a86b-4a88-8adb-c7c6868bb9b2",
   "metadata": {},
   "outputs": [
    {
     "name": "stdout",
     "output_type": "stream",
     "text": [
      "<re.Match object; span=(29, 39), match='2022-04-30'>\n",
      "<re.Match object; span=(40, 50), match='2022-05-23'>\n",
      "<re.Match object; span=(51, 61), match='2022-06-12'>\n",
      "<re.Match object; span=(62, 72), match='2022-07-15'>\n",
      "<re.Match object; span=(73, 83), match='2022-08-19'>\n",
      "<re.Match object; span=(84, 94), match='2022/04/22'>\n"
     ]
    }
   ],
   "source": [
    "#2. find all date in this 2020-04-01 and 2020/04/02 format\n",
    "pattern = re.compile(r\"\\d\\d\\d\\d[-/]\\d\\d[-/]\\d\\d\")\n",
    "matches = pattern.finditer(dates)\n",
    "for match in matches:\n",
    " print(match)"
   ]
  },
  {
   "cell_type": "code",
   "execution_count": 47,
   "id": "2e93e2b9-78a9-4539-92a8-62c73eedfa05",
   "metadata": {},
   "outputs": [
    {
     "name": "stdout",
     "output_type": "stream",
     "text": [
      "<re.Match object; span=(40, 50), match='2022-05-23'>\n",
      "<re.Match object; span=(51, 61), match='2022-06-12'>\n",
      "<re.Match object; span=(62, 72), match='2022-07-15'>\n"
     ]
    }
   ],
   "source": [
    "#3. find all date in may, june, july\n",
    "pattern = re.compile(r\"\\d\\d\\d\\d[-/]0[5-7][-/]\\d\\d\")\n",
    "matches = pattern.finditer(dates)\n",
    "for match in matches:\n",
    " print(match)"
   ]
  },
  {
   "cell_type": "code",
   "execution_count": 48,
   "id": "61a154f3-a5d3-4bd8-af69-5c4682031972",
   "metadata": {},
   "outputs": [
    {
     "name": "stdout",
     "output_type": "stream",
     "text": [
      "<re.Match object; span=(40, 50), match='2022-05-23'>\n",
      "<re.Match object; span=(51, 61), match='2022-06-12'>\n",
      "<re.Match object; span=(62, 72), match='2022-07-15'>\n"
     ]
    }
   ],
   "source": [
    "pattern = re.compile(r\"\\d{4}[-/]0[5-7][-/]\\d{2}\")\n",
    "matches = pattern.finditer(dates)\n",
    "for match in matches:\n",
    " print(match)"
   ]
  },
  {
   "cell_type": "code",
   "execution_count": 49,
   "id": "cbb9a1dd-86e1-4758-a4a6-c438b0488bf7",
   "metadata": {},
   "outputs": [],
   "source": [
    "my_str = \"\"\"\n",
    "hello world\n",
    "1223\n",
    "2022-05-20\n",
    "Mr Curry\n",
    "Mrs Curry\n",
    "Mr. Thompson\n",
    "Mrs Green\n",
    "Mr. T\n",
    "\"\"\"\n",
    "# return all names"
   ]
  },
  {
   "cell_type": "code",
   "execution_count": 50,
   "id": "a7525c1e-943e-44eb-8472-7cfd6feb2b07",
   "metadata": {},
   "outputs": [
    {
     "name": "stdout",
     "output_type": "stream",
     "text": [
      "<re.Match object; span=(29, 37), match='Mr Curry'>\n"
     ]
    }
   ],
   "source": [
    "pattern = re.compile(r\"Mr\\s\\w+\")\n",
    "matches = pattern.finditer(my_str)\n",
    "for match in matches:\n",
    " print(match)"
   ]
  },
  {
   "cell_type": "code",
   "execution_count": 51,
   "id": "1fc270ec-9905-4022-a77f-d1f780de77da",
   "metadata": {},
   "outputs": [
    {
     "name": "stdout",
     "output_type": "stream",
     "text": [
      "<re.Match object; span=(48, 60), match='Mr. Thompson'>\n",
      "<re.Match object; span=(71, 76), match='Mr. T'>\n"
     ]
    }
   ],
   "source": [
    "pattern = re.compile(r\"Mr\\.\\s\\w+\") #'\\' is used to treat . as dot\n",
    "matches = pattern.finditer(my_str)\n",
    "for match in matches:\n",
    " print(match)\n"
   ]
  },
  {
   "cell_type": "code",
   "execution_count": 52,
   "id": "fbe93aeb-cbc6-4310-91ae-be20b8b74796",
   "metadata": {},
   "outputs": [
    {
     "name": "stdout",
     "output_type": "stream",
     "text": [
      "<re.Match object; span=(29, 37), match='Mr Curry'>\n",
      "<re.Match object; span=(48, 60), match='Mr. Thompson'>\n",
      "<re.Match object; span=(71, 76), match='Mr. T'>\n"
     ]
    }
   ],
   "source": [
    "pattern = re.compile(r\"Mr\\.?\\s\\w+\")\n",
    "matches = pattern.finditer(my_str)\n",
    "for match in matches:\n",
    " print(match)"
   ]
  },
  {
   "cell_type": "code",
   "execution_count": 53,
   "id": "459154ad-8856-4659-b954-86c34a717dd6",
   "metadata": {},
   "outputs": [
    {
     "name": "stdout",
     "output_type": "stream",
     "text": [
      "<re.Match object; span=(29, 37), match='Mr Curry'>\n",
      "<re.Match object; span=(38, 47), match='Mrs Curry'>\n",
      "<re.Match object; span=(48, 60), match='Mr. Thompson'>\n",
      "<re.Match object; span=(61, 70), match='Mrs Green'>\n",
      "<re.Match object; span=(71, 76), match='Mr. T'>\n"
     ]
    }
   ],
   "source": [
    "pattern = re.compile(r\"(Mr|Ms|Mrs)\\.?\\s\\w+\")\n",
    "matches = pattern.finditer(my_str)\n",
    "for match in matches:\n",
    " print(match)"
   ]
  },
  {
   "cell_type": "code",
   "execution_count": 54,
   "id": "84cb45ea-e776-4b3d-b0bb-74c2864acad1",
   "metadata": {},
   "outputs": [],
   "source": [
    "emails = \"\"\"\n",
    "hello world\n",
    "1223\n",
    "2022-05-20\n",
    "Mr Curry\n",
    "Mrs Curry\n",
    "Mr. Thompson\n",
    "Mrs Green\n",
    "Mr. T\n",
    "stephencurry@gmail.com\n",
    "Stephen-curry@gmx.de\n",
    "stephen-curry123@my-domain.org\n",
    "\"\"\"\n",
    "# return all emails"
   ]
  },
  {
   "cell_type": "code",
   "execution_count": 55,
   "id": "87801ebc-dd1c-4c53-afa5-8a3a309a35af",
   "metadata": {},
   "outputs": [
    {
     "name": "stdout",
     "output_type": "stream",
     "text": [
      "<re.Match object; span=(77, 99), match='stephencurry@gmail.com'>\n",
      "<re.Match object; span=(100, 120), match='Stephen-curry@gmx.de'>\n",
      "<re.Match object; span=(121, 151), match='stephen-curry123@my-domain.org'>\n"
     ]
    }
   ],
   "source": [
    "pattern = re.compile(r\"[a-zA-z0-9-]+@[a-zA-Z-]+\\.(com|de|org)\")\n",
    "matches = pattern.finditer(emails)\n",
    "for match in matches:\n",
    " print(match)"
   ]
  },
  {
   "cell_type": "code",
   "execution_count": 56,
   "id": "d5650b03-2b7e-4090-accb-280561de9ca9",
   "metadata": {},
   "outputs": [
    {
     "name": "stdout",
     "output_type": "stream",
     "text": [
      "<re.Match object; span=(77, 99), match='stephencurry@gmail.com'>\n",
      "<re.Match object; span=(100, 120), match='Stephen-curry@gmx.de'>\n",
      "<re.Match object; span=(121, 151), match='stephen-curry123@my-domain.org'>\n"
     ]
    }
   ],
   "source": [
    "pattern = re.compile(r\"[a-zA-z0-9-]+@[a-zA-Z-]+\\.[a-zA-Z]*\")\n",
    "matches = pattern.finditer(emails)\n",
    "for match in matches:\n",
    " print(match)"
   ]
  },
  {
   "cell_type": "code",
   "execution_count": 57,
   "id": "c3fbe081-d391-46f9-90c2-95957844fe37",
   "metadata": {},
   "outputs": [
    {
     "name": "stdout",
     "output_type": "stream",
     "text": [
      "all groups:  stephencurry@gmail.com\n",
      "first groups:  stephencurry\n",
      "second groups:  gmail\n",
      "third groups:  com\n",
      "all groups:  Stephen-curry@gmx.de\n",
      "first groups:  Stephen-curry\n",
      "second groups:  gmx\n",
      "third groups:  de\n",
      "all groups:  stephen-curry123@my-domain.org\n",
      "first groups:  stephen-curry123\n",
      "second groups:  my-domain\n",
      "third groups:  org\n"
     ]
    }
   ],
   "source": [
    "pattern = re.compile(r\"([a-zA-z0-9-]+)@([a-zA-Z-]+)\\.([a-zA-Z]+)\")\n",
    "matches = pattern.finditer(emails)\n",
    "for match in matches:\n",
    " print(\"all groups: \",match.group(0)) #this means all groups\n",
    " print(\"first groups: \",match.group(1)) #this means first groups\n",
    " print(\"second groups: \",match.group(2)) #this means second groups\n",
    " print(\"third groups: \",match.group(3)) #this means third groups"
   ]
  },
  {
   "cell_type": "code",
   "execution_count": 58,
   "id": "9adf7e24-68e0-4871-8165-51eaa2b855dc",
   "metadata": {},
   "outputs": [],
   "source": [
    "my_string = '123abc456789abc123ABC'"
   ]
  },
  {
   "cell_type": "code",
   "execution_count": 59,
   "id": "d14c4fd6-1fc2-4b73-b317-1bb36eb0a7ce",
   "metadata": {},
   "outputs": [
    {
     "name": "stdout",
     "output_type": "stream",
     "text": [
      "['123', '456789', '123ABC']\n"
     ]
    }
   ],
   "source": [
    "pattern = re.compile(r\"abc\")\n",
    "splitted = pattern.split(my_string)\n",
    "print(splitted)"
   ]
  },
  {
   "cell_type": "code",
   "execution_count": 60,
   "id": "720bc2ef-ab81-45b9-92f5-5472ddd210a2",
   "metadata": {},
   "outputs": [],
   "source": [
    "test_str = 'hello world, you are the best world'"
   ]
  },
  {
   "cell_type": "code",
   "execution_count": 61,
   "id": "b4e51a15-bd27-4eb6-9ca4-9b2a3969255e",
   "metadata": {},
   "outputs": [
    {
     "name": "stdout",
     "output_type": "stream",
     "text": [
      "hello planet, you are the best planet\n"
     ]
    }
   ],
   "source": [
    "pattern = re.compile(r\"world\")\n",
    "subbed_string = pattern.sub(\"planet\", test_str)\n",
    "print(subbed_string)"
   ]
  },
  {
   "cell_type": "code",
   "execution_count": 62,
   "id": "cad74266-ea4d-4107-876f-4d1f1798f84c",
   "metadata": {},
   "outputs": [],
   "source": [
    "# Task 2\n",
    "urls = \"\"\"\n",
    "http://zara-fashion.com\n",
    "https://www.world-healthorganisation.org\n",
    "http://www.iNeuron.ai\n",
    "\"\"\"\n",
    "# return url"
   ]
  },
  {
   "cell_type": "code",
   "execution_count": 63,
   "id": "39eb8186-985e-40ef-90c8-ce7ba84b6ba2",
   "metadata": {},
   "outputs": [
    {
     "name": "stdout",
     "output_type": "stream",
     "text": [
      "<re.Match object; span=(1, 24), match='http://zara-fashion.com'>\n",
      "<re.Match object; span=(25, 65), match='https://www.world-healthorganisation.org'>\n",
      "<re.Match object; span=(66, 87), match='http://www.iNeuron.ai'>\n"
     ]
    }
   ],
   "source": [
    "pattern = re.compile(r\"(https?://)(www\\.)?([a-zA-Z-]+)\\.[a-zA-Z]+\")\n",
    "matches = pattern.finditer(urls)\n",
    "for match in matches:\n",
    " print(match)"
   ]
  },
  {
   "cell_type": "code",
   "execution_count": 64,
   "id": "e32fba03-1eeb-4005-9624-568a1178d327",
   "metadata": {},
   "outputs": [
    {
     "name": "stdout",
     "output_type": "stream",
     "text": [
      "<re.Match object; span=(1, 24), match='http://zara-fashion.com'>\n",
      "<re.Match object; span=(25, 65), match='https://www.world-healthorganisation.org'>\n",
      "<re.Match object; span=(66, 87), match='http://www.iNeuron.ai'>\n"
     ]
    }
   ],
   "source": [
    "pattern = re.compile(r\"(https?://)(www\\.)?([a-zA-Z-]+)\\.([a-zA-Z]+)\")\n",
    "matches = pattern.finditer(urls)\n",
    "for match in matches:\n",
    " print(match)"
   ]
  },
  {
   "cell_type": "code",
   "execution_count": 65,
   "id": "cf6ac9a1-8a91-42fe-82b4-79c8ad584bba",
   "metadata": {},
   "outputs": [
    {
     "name": "stdout",
     "output_type": "stream",
     "text": [
      "zara-fashion\n",
      "world-healthorganisation\n",
      "iNeuron\n"
     ]
    }
   ],
   "source": [
    "pattern = re.compile(r\"https?://(www\\.)?([a-zA-Z-]+)\\.([a-zA-Z]+)\")\n",
    "matches = pattern.finditer(urls)\n",
    "for match in matches:\n",
    " print(match.group(2))"
   ]
  },
  {
   "cell_type": "code",
   "execution_count": 66,
   "id": "9e744fce-dc1d-4f70-a130-40392522e6fa",
   "metadata": {},
   "outputs": [
    {
     "name": "stdout",
     "output_type": "stream",
     "text": [
      "\n",
      "hello\n",
      "hello\n",
      "hello\n",
      "\n"
     ]
    }
   ],
   "source": [
    "subbed_url = pattern.sub(\"hello\", urls)\n",
    "print(subbed_url)"
   ]
  },
  {
   "cell_type": "code",
   "execution_count": 67,
   "id": "f3b737b2-015c-45ae-804a-b99dac01086e",
   "metadata": {},
   "outputs": [
    {
     "name": "stdout",
     "output_type": "stream",
     "text": [
      "\n",
      "zara-fashioncom\n",
      "world-healthorganisationorg\n",
      "iNeuronai\n",
      "\n"
     ]
    }
   ],
   "source": [
    "subbed_url = pattern.sub(r\"\\2\\3\", urls) #\\2 and \\3 are used for specifying groups\n",
    "print(subbed_url)"
   ]
  },
  {
   "cell_type": "code",
   "execution_count": 68,
   "id": "4c023cde-86a0-4d91-90e7-03aeb12f663d",
   "metadata": {},
   "outputs": [],
   "source": [
    "my_string = \"Hello World\"\n",
    "pattern = re.compile(r\"world\")\n",
    "matches = pattern.finditer(my_string)\n",
    "for match in matches:\n",
    " print(match)"
   ]
  },
  {
   "cell_type": "code",
   "execution_count": 69,
   "id": "bcc35bd7-9f94-4eef-b590-ce820fc42f50",
   "metadata": {},
   "outputs": [
    {
     "name": "stdout",
     "output_type": "stream",
     "text": [
      "<re.Match object; span=(6, 11), match='World'>\n"
     ]
    }
   ],
   "source": [
    "my_string = \"Hello World\"\n",
    "pattern = re.compile(r\"world\", re.IGNORECASE) #in place of re.IGNORECASE we can use re.I\n",
    "matches = pattern.finditer(my_string)\n",
    "for match in matches:\n",
    " print(match)"
   ]
  },
  {
   "cell_type": "code",
   "execution_count": null,
   "id": "eb046d7d-d222-490b-8668-0a418d8d8e2d",
   "metadata": {},
   "outputs": [],
   "source": []
  }
 ],
 "metadata": {
  "kernelspec": {
   "display_name": "Python 3 (ipykernel)",
   "language": "python",
   "name": "python3"
  },
  "language_info": {
   "codemirror_mode": {
    "name": "ipython",
    "version": 3
   },
   "file_extension": ".py",
   "mimetype": "text/x-python",
   "name": "python",
   "nbconvert_exporter": "python",
   "pygments_lexer": "ipython3",
   "version": "3.12.4"
  }
 },
 "nbformat": 4,
 "nbformat_minor": 5
}
